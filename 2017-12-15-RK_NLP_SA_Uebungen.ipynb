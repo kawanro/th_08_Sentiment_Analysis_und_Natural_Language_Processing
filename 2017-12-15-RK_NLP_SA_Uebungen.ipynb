{
 "cells": [
  {
   "cell_type": "markdown",
   "metadata": {},
   "source": [
    "# Übung zu Sentiment Analysis und Natural Language Processing"
   ]
  },
  {
   "cell_type": "markdown",
   "metadata": {},
   "source": [
    "# Aufgabe 1"
   ]
  },
  {
   "cell_type": "markdown",
   "metadata": {},
   "source": [
    "1. Beschreiben sie die Arten von maschinellem Lernen. <br>\n",
    "2. Zerlegen sie folgenden Satz in einzelne Wörter mithilfe von NLTK. (Tipp: Tokenizen): \"Ich werde heute Fahrrad fahren und will heute Abend noch nach Nürnberg fahren, um den Weihnachtsmarkt zu besuchen.\"\n",
    "3. Importieren Sie den Korpus Wordnet und lassen Sie sich die Definition des Wortes \"dog\" ausgeben.\n",
    "4. Entfernen Sie die StopWords aus obigen Satz.\n"
   ]
  },
  {
   "cell_type": "markdown",
   "metadata": {
    "collapsed": true
   },
   "source": [
    "# Aufgabe 2"
   ]
  },
  {
   "cell_type": "markdown",
   "metadata": {},
   "source": [
    "Erstellen Sie Ihren eigenen NaiveBayes-Klassifikator mit dem Movie_Review Datensatz. Beachten Sie dabei folgende Schritte: <br>\n",
    "* Benötigte Bibliotheken importieren\n",
    "* Vokabular erstellen\n",
    "* Lern- und Testdaten definieren\n",
    "* Klassifikator trainieren"
   ]
  },
  {
   "cell_type": "code",
   "execution_count": null,
   "metadata": {
    "collapsed": true
   },
   "outputs": [],
   "source": []
  }
 ],
 "metadata": {
  "kernelspec": {
   "display_name": "Python 3",
   "language": "python",
   "name": "python3"
  },
  "language_info": {
   "codemirror_mode": {
    "name": "ipython",
    "version": 3
   },
   "file_extension": ".py",
   "mimetype": "text/x-python",
   "name": "python",
   "nbconvert_exporter": "python",
   "pygments_lexer": "ipython3",
   "version": "3.6.2"
  }
 },
 "nbformat": 4,
 "nbformat_minor": 2
}
